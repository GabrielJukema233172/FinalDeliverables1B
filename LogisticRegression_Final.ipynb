{
 "cells": [
  {
   "cell_type": "markdown",
   "id": "4f538290",
   "metadata": {},
   "source": [
    "# Implementing Logistic Regression from Scratch"
   ]
  },
  {
   "cell_type": "markdown",
   "id": "5108f7f3",
   "metadata": {},
   "source": [
    "This template is provided for you to a logistic regression model from scratch using your project dataset.\n",
    "Fill in the __None__ parts in this template.\n",
    "\n",
    "__Notes:__\n",
    "1. Please follow the instructions in this notebook to complete all the tasks as specified.\n",
    "2. Please, do not change the order of the cells, and do not modify the test cells provided to verify if you have implemented the functions correctly."
   ]
  },
  {
   "cell_type": "markdown",
   "id": "c189da95",
   "metadata": {},
   "source": [
    "## Importing the required packages"
   ]
  },
  {
   "cell_type": "code",
   "execution_count": 62,
   "id": "12ed8649",
   "metadata": {},
   "outputs": [],
   "source": [
    "# Put your code here (3 lines of code)\n",
    "# Import the required packages: numpy, pandas, matplotlib.pyplot\n",
    "import numpy as np\n",
    "import pandas as pd\n",
    "import matplotlib.pyplot as plt"
   ]
  },
  {
   "cell_type": "markdown",
   "id": "84f5d394",
   "metadata": {},
   "source": [
    "## Project dataset"
   ]
  },
  {
   "cell_type": "markdown",
   "id": "6f561662",
   "metadata": {},
   "source": [
    "In the following cell, load the dataset for the project."
   ]
  },
  {
   "cell_type": "markdown",
   "id": "2c275be0",
   "metadata": {},
   "source": [
    "__Alternatively, you can load a clean dataset that is ready to train a logistic regression model. This way, you won’t need to handle missing values or encode categorical variables.__"
   ]
  },
  {
   "cell_type": "code",
   "execution_count": 63,
   "id": "326312d9",
   "metadata": {
    "scrolled": false
   },
   "outputs": [
    {
     "data": {
      "text/html": [
       "<div>\n",
       "<style scoped>\n",
       "    .dataframe tbody tr th:only-of-type {\n",
       "        vertical-align: middle;\n",
       "    }\n",
       "\n",
       "    .dataframe tbody tr th {\n",
       "        vertical-align: top;\n",
       "    }\n",
       "\n",
       "    .dataframe thead th {\n",
       "        text-align: right;\n",
       "    }\n",
       "</style>\n",
       "<table border=\"1\" class=\"dataframe\">\n",
       "  <thead>\n",
       "    <tr style=\"text-align: right;\">\n",
       "      <th></th>\n",
       "      <th>encounter_id</th>\n",
       "      <th>patient_nbr</th>\n",
       "      <th>race</th>\n",
       "      <th>gender</th>\n",
       "      <th>age</th>\n",
       "      <th>weight</th>\n",
       "      <th>admission_type_id</th>\n",
       "      <th>discharge_disposition_id</th>\n",
       "      <th>admission_source_id</th>\n",
       "      <th>time_in_hospital</th>\n",
       "      <th>...</th>\n",
       "      <th>citoglipton</th>\n",
       "      <th>insulin</th>\n",
       "      <th>glyburide-metformin</th>\n",
       "      <th>glipizide-metformin</th>\n",
       "      <th>glimepiride-pioglitazone</th>\n",
       "      <th>metformin-rosiglitazone</th>\n",
       "      <th>metformin-pioglitazone</th>\n",
       "      <th>change</th>\n",
       "      <th>diabetesMed</th>\n",
       "      <th>readmitted</th>\n",
       "    </tr>\n",
       "  </thead>\n",
       "  <tbody>\n",
       "    <tr>\n",
       "      <th>0</th>\n",
       "      <td>2278392</td>\n",
       "      <td>8222157</td>\n",
       "      <td>Caucasian</td>\n",
       "      <td>Female</td>\n",
       "      <td>[0-10)</td>\n",
       "      <td>?</td>\n",
       "      <td>6</td>\n",
       "      <td>25</td>\n",
       "      <td>1</td>\n",
       "      <td>1</td>\n",
       "      <td>...</td>\n",
       "      <td>No</td>\n",
       "      <td>No</td>\n",
       "      <td>No</td>\n",
       "      <td>No</td>\n",
       "      <td>No</td>\n",
       "      <td>No</td>\n",
       "      <td>No</td>\n",
       "      <td>No</td>\n",
       "      <td>No</td>\n",
       "      <td>NO</td>\n",
       "    </tr>\n",
       "    <tr>\n",
       "      <th>1</th>\n",
       "      <td>149190</td>\n",
       "      <td>55629189</td>\n",
       "      <td>Caucasian</td>\n",
       "      <td>Female</td>\n",
       "      <td>[10-20)</td>\n",
       "      <td>?</td>\n",
       "      <td>1</td>\n",
       "      <td>1</td>\n",
       "      <td>7</td>\n",
       "      <td>3</td>\n",
       "      <td>...</td>\n",
       "      <td>No</td>\n",
       "      <td>Up</td>\n",
       "      <td>No</td>\n",
       "      <td>No</td>\n",
       "      <td>No</td>\n",
       "      <td>No</td>\n",
       "      <td>No</td>\n",
       "      <td>Ch</td>\n",
       "      <td>Yes</td>\n",
       "      <td>&gt;30</td>\n",
       "    </tr>\n",
       "    <tr>\n",
       "      <th>2</th>\n",
       "      <td>64410</td>\n",
       "      <td>86047875</td>\n",
       "      <td>AfricanAmerican</td>\n",
       "      <td>Female</td>\n",
       "      <td>[20-30)</td>\n",
       "      <td>?</td>\n",
       "      <td>1</td>\n",
       "      <td>1</td>\n",
       "      <td>7</td>\n",
       "      <td>2</td>\n",
       "      <td>...</td>\n",
       "      <td>No</td>\n",
       "      <td>No</td>\n",
       "      <td>No</td>\n",
       "      <td>No</td>\n",
       "      <td>No</td>\n",
       "      <td>No</td>\n",
       "      <td>No</td>\n",
       "      <td>No</td>\n",
       "      <td>Yes</td>\n",
       "      <td>NO</td>\n",
       "    </tr>\n",
       "  </tbody>\n",
       "</table>\n",
       "<p>3 rows × 50 columns</p>\n",
       "</div>"
      ],
      "text/plain": [
       "   encounter_id  patient_nbr             race  gender      age weight  \\\n",
       "0       2278392      8222157        Caucasian  Female   [0-10)      ?   \n",
       "1        149190     55629189        Caucasian  Female  [10-20)      ?   \n",
       "2         64410     86047875  AfricanAmerican  Female  [20-30)      ?   \n",
       "\n",
       "   admission_type_id  discharge_disposition_id  admission_source_id  \\\n",
       "0                  6                        25                    1   \n",
       "1                  1                         1                    7   \n",
       "2                  1                         1                    7   \n",
       "\n",
       "   time_in_hospital  ... citoglipton insulin  glyburide-metformin  \\\n",
       "0                 1  ...          No      No                   No   \n",
       "1                 3  ...          No      Up                   No   \n",
       "2                 2  ...          No      No                   No   \n",
       "\n",
       "   glipizide-metformin  glimepiride-pioglitazone  metformin-rosiglitazone  \\\n",
       "0                   No                        No                       No   \n",
       "1                   No                        No                       No   \n",
       "2                   No                        No                       No   \n",
       "\n",
       "   metformin-pioglitazone  change diabetesMed readmitted  \n",
       "0                      No      No          No         NO  \n",
       "1                      No      Ch         Yes        >30  \n",
       "2                      No      No         Yes         NO  \n",
       "\n",
       "[3 rows x 50 columns]"
      ]
     },
     "execution_count": 63,
     "metadata": {},
     "output_type": "execute_result"
    }
   ],
   "source": [
    "# Put your code here (1 line of code)\n",
    "# Load your project dataset \n",
    "data = pd.read_excel('diabetic_data_233172.xlsx')\n",
    "# Let's have a look on your dataset\n",
    "data.head(n=3)"
   ]
  },
  {
   "cell_type": "markdown",
   "id": "b81ca799",
   "metadata": {},
   "source": [
    "## Response and feature selection"
   ]
  },
  {
   "cell_type": "markdown",
   "id": "7a333d18",
   "metadata": {},
   "source": [
    "Select a single variable from your project dataset as the response variable for your logistic regression model and identify at least three potential features. You will not be evaluated based on the number of features you consider; the effectiveness of your implementation is more important. "
   ]
  },
  {
   "cell_type": "code",
   "execution_count": 64,
   "id": "3049514f",
   "metadata": {},
   "outputs": [],
   "source": [
    "# Put your code here (1 line of code)\n",
    "# Choose your target variable\n",
    "target_variable = ['diabetesMed']\n",
    "\n",
    "# Put your code here (1 line of code)\n",
    "# Choose your feature variables\n",
    "feature_variables = ['insulin', 'change', 'time_in_hospital', 'num_medications' ]"
   ]
  },
  {
   "cell_type": "markdown",
   "id": "570a7e2f",
   "metadata": {},
   "source": [
    "In the following cell, please remove the missing values (if necessary)"
   ]
  },
  {
   "cell_type": "code",
   "execution_count": 65,
   "id": "ea5a47cc",
   "metadata": {},
   "outputs": [],
   "source": [
    "missing_values = data.isnull().sum()\n",
    "data = data.dropna()"
   ]
  },
  {
   "cell_type": "markdown",
   "id": "a7ac5cec",
   "metadata": {},
   "source": [
    "In the following cell, use LabelEncoder and OrdinalEncoder from scikit-learn to encode the categorical features you have chosen for your logistic regression model, if there are any. "
   ]
  },
  {
   "cell_type": "code",
   "execution_count": 66,
   "id": "843ea3bf",
   "metadata": {
    "scrolled": false
   },
   "outputs": [
    {
     "name": "stderr",
     "output_type": "stream",
     "text": [
      "c:\\Users\\gabri\\anaconda3\\envs\\Block_B\\Lib\\site-packages\\sklearn\\preprocessing\\_label.py:114: DataConversionWarning: A column-vector y was passed when a 1d array was expected. Please change the shape of y to (n_samples, ), for example using ravel().\n",
      "  y = column_or_1d(y, warn=True)\n"
     ]
    }
   ],
   "source": [
    "# Put your code here\n",
    "# Feel free to use as many lines as you need to encode the categorical variables.\n",
    "# convert categorical data into numerical data using OrdinalEncoder and LabelEncoder\n",
    "from sklearn.preprocessing import OrdinalEncoder\n",
    "from sklearn.preprocessing import LabelEncoder\n",
    "\n",
    "lab_enc = LabelEncoder()\n",
    "\n",
    "data['diabetesMed'] = lab_enc.fit_transform(data[['diabetesMed']]).astype(int)\n",
    "\n",
    "ord_enc = OrdinalEncoder()\n",
    "data['change'] = ord_enc.fit_transform(data[['change']]).astype(int)\n",
    "data['insulin'] = ord_enc.fit_transform(data[['insulin']]).astype(int)"
   ]
  },
  {
   "cell_type": "markdown",
   "id": "40df43bf",
   "metadata": {},
   "source": [
    "###  Define features and Response"
   ]
  },
  {
   "cell_type": "markdown",
   "id": "89294fe4",
   "metadata": {},
   "source": [
    "Now, let's define the feature and target variables."
   ]
  },
  {
   "cell_type": "code",
   "execution_count": 67,
   "id": "b46d85f9",
   "metadata": {},
   "outputs": [],
   "source": [
    "# Put your code here (2 lines of code)\n",
    "# Define the features and target variables\n",
    "Features = data[feature_variables]\n",
    "Target = data[target_variable]"
   ]
  },
  {
   "cell_type": "markdown",
   "id": "ec128628",
   "metadata": {},
   "source": [
    "### Training and test sets"
   ]
  },
  {
   "cell_type": "markdown",
   "id": "cbdca3b9",
   "metadata": {},
   "source": [
    "Now, we need to split the dataset into training and test sets."
   ]
  },
  {
   "cell_type": "code",
   "execution_count": 68,
   "id": "812f1bce",
   "metadata": {},
   "outputs": [
    {
     "name": "stdout",
     "output_type": "stream",
     "text": [
      "Training data shape: (238, 4), (238, 1)\n",
      "Test data shape: (60, 4), (60, 1)\n"
     ]
    }
   ],
   "source": [
    "# Split your dataset into training and test sets\n",
    "# You can use scikit-learn to that end\n",
    "from sklearn.model_selection import train_test_split\n",
    "Features_train, Features_test, Target_train, Target_test = train_test_split(Features, Target, test_size=0.2, random_state=58)\n",
    "\n",
    "print(f\"Training data shape: {Features_train.shape}, {Target_train.shape}\")\n",
    "print(f\"Test data shape: {Features_test.shape}, {Target_test.shape}\")"
   ]
  },
  {
   "cell_type": "markdown",
   "id": "cc5e35dc",
   "metadata": {},
   "source": [
    "### Feature Normalization"
   ]
  },
  {
   "cell_type": "markdown",
   "id": "a64e48cd",
   "metadata": {},
   "source": [
    "Here, we use the `MinMaxScaler` to normalize the range of features in the dataset, transforming the data so that all feature values fall between 0 and 1."
   ]
  },
  {
   "cell_type": "code",
   "execution_count": 69,
   "id": "3657ae2a",
   "metadata": {},
   "outputs": [],
   "source": [
    "from sklearn.preprocessing import MinMaxScaler\n",
    "scaler = MinMaxScaler()\n",
    "X_train = scaler.fit_transform(Features_train)\n",
    "Y_train = Target_train.to_numpy()"
   ]
  },
  {
   "cell_type": "markdown",
   "id": "8806b75b",
   "metadata": {},
   "source": [
    "### Important Note"
   ]
  },
  {
   "cell_type": "markdown",
   "id": "13ac04bc",
   "metadata": {},
   "source": [
    "\n",
    "To use this template for building your model, X and Y should be  two-dimensional numpy arrays. "
   ]
  },
  {
   "cell_type": "markdown",
   "id": "44cdcd8d",
   "metadata": {},
   "source": [
    "Let's define the number of observations and features in the following cell."
   ]
  },
  {
   "cell_type": "code",
   "execution_count": 70,
   "id": "921a25a5",
   "metadata": {},
   "outputs": [
    {
     "name": "stdout",
     "output_type": "stream",
     "text": [
      "Number of observations: 10000\n",
      "Number of features: 4\n"
     ]
    }
   ],
   "source": [
    "# Put your code here (2 lines of code)\n",
    "# Define the number of observations and the features (predictors)\n",
    "\n",
    "m = 10000\n",
    "print('Number of observations:', m)\n",
    "\n",
    "p = 4\n",
    "print('Number of features:', p)"
   ]
  },
  {
   "cell_type": "markdown",
   "id": "dafcb3fa",
   "metadata": {},
   "source": [
    "You have to add 1 to the related row for each observation; i.e. we need to change X to the following form:\n",
    "\n",
    "$$ X= \\left[ \\begin{array}{ccccc} 1 & x_1^{(1)} & x_2^{(1)} & \\cdots & x_p^{(1)}  \\\\  1 & x_1^{(2)} & x_2^{(2)} & \\cdots & x_p^{(2)} \\\\ \\vdots & \\vdots & \\vdots & \\ddots & \\vdots \\\\\n",
    "   1 & x_1^{(m)} & x_2^{(m)} & \\cdots & x_p^{(m)}  \\end{array} \\right]$$"
   ]
  },
  {
   "cell_type": "code",
   "execution_count": 71,
   "id": "d097d53b",
   "metadata": {
    "scrolled": false
   },
   "outputs": [
    {
     "name": "stdout",
     "output_type": "stream",
     "text": [
      "[[1.         0.66666667 0.         0.23076923 0.44117647]\n",
      " [1.         0.33333333 1.         0.38461538 0.14705882]\n",
      " [1.         0.33333333 1.         0.23076923 0.55882353]\n",
      " ...\n",
      " [1.         0.66666667 1.         0.30769231 0.61764706]\n",
      " [1.         0.33333333 0.         0.38461538 0.64705882]\n",
      " [1.         0.         0.         0.15384615 0.29411765]]\n"
     ]
    }
   ],
   "source": [
    "# Put your code here (1 line of code)\n",
    "# Add 1 to each row of X (you can use np.insert)\n",
    "X = np.insert(X_train, 0, 1, axis= 1)\n",
    "\n",
    "print(X)"
   ]
  },
  {
   "cell_type": "code",
   "execution_count": 72,
   "id": "47af5f06",
   "metadata": {},
   "outputs": [
    {
     "name": "stdout",
     "output_type": "stream",
     "text": [
      "[[1]\n",
      " [1]\n",
      " [0]\n",
      " [0]\n",
      " [0]\n",
      " [0]\n",
      " [0]\n",
      " [1]\n",
      " [0]\n",
      " [0]\n",
      " [1]\n",
      " [0]\n",
      " [1]\n",
      " [0]\n",
      " [0]\n",
      " [0]\n",
      " [1]\n",
      " [0]\n",
      " [0]\n",
      " [1]\n",
      " [1]\n",
      " [1]\n",
      " [1]\n",
      " [1]\n",
      " [1]\n",
      " [1]\n",
      " [1]\n",
      " [1]\n",
      " [0]\n",
      " [0]\n",
      " [0]\n",
      " [1]\n",
      " [1]\n",
      " [1]\n",
      " [1]\n",
      " [1]\n",
      " [1]\n",
      " [1]\n",
      " [1]\n",
      " [1]\n",
      " [1]\n",
      " [0]\n",
      " [0]\n",
      " [0]\n",
      " [1]\n",
      " [1]\n",
      " [0]\n",
      " [0]\n",
      " [1]\n",
      " [1]\n",
      " [1]\n",
      " [1]\n",
      " [1]\n",
      " [1]\n",
      " [1]\n",
      " [1]\n",
      " [1]\n",
      " [1]\n",
      " [0]\n",
      " [0]\n",
      " [0]\n",
      " [1]\n",
      " [1]\n",
      " [0]\n",
      " [1]\n",
      " [1]\n",
      " [1]\n",
      " [1]\n",
      " [1]\n",
      " [1]\n",
      " [0]\n",
      " [1]\n",
      " [0]\n",
      " [1]\n",
      " [0]\n",
      " [1]\n",
      " [1]\n",
      " [0]\n",
      " [0]\n",
      " [0]\n",
      " [1]\n",
      " [1]\n",
      " [1]\n",
      " [1]\n",
      " [1]\n",
      " [0]\n",
      " [1]\n",
      " [0]\n",
      " [0]\n",
      " [1]\n",
      " [1]\n",
      " [1]\n",
      " [1]\n",
      " [1]\n",
      " [0]\n",
      " [0]\n",
      " [0]\n",
      " [1]\n",
      " [1]\n",
      " [1]\n",
      " [1]\n",
      " [1]\n",
      " [0]\n",
      " [1]\n",
      " [1]\n",
      " [0]\n",
      " [0]\n",
      " [1]\n",
      " [1]\n",
      " [1]\n",
      " [1]\n",
      " [0]\n",
      " [1]\n",
      " [1]\n",
      " [1]\n",
      " [0]\n",
      " [1]\n",
      " [1]\n",
      " [0]\n",
      " [1]\n",
      " [1]\n",
      " [0]\n",
      " [1]\n",
      " [1]\n",
      " [1]\n",
      " [1]\n",
      " [0]\n",
      " [1]\n",
      " [1]\n",
      " [0]\n",
      " [1]\n",
      " [0]\n",
      " [0]\n",
      " [1]\n",
      " [0]\n",
      " [1]\n",
      " [0]\n",
      " [1]\n",
      " [1]\n",
      " [0]\n",
      " [1]\n",
      " [0]\n",
      " [1]\n",
      " [1]\n",
      " [0]\n",
      " [0]\n",
      " [0]\n",
      " [1]\n",
      " [1]\n",
      " [0]\n",
      " [1]\n",
      " [0]\n",
      " [0]\n",
      " [0]\n",
      " [0]\n",
      " [0]\n",
      " [1]\n",
      " [0]\n",
      " [0]\n",
      " [1]\n",
      " [0]\n",
      " [1]\n",
      " [0]\n",
      " [1]\n",
      " [0]\n",
      " [1]\n",
      " [1]\n",
      " [1]\n",
      " [0]\n",
      " [1]\n",
      " [0]\n",
      " [1]\n",
      " [1]\n",
      " [1]\n",
      " [1]\n",
      " [0]\n",
      " [1]\n",
      " [0]\n",
      " [1]\n",
      " [1]\n",
      " [1]\n",
      " [1]\n",
      " [0]\n",
      " [0]\n",
      " [1]\n",
      " [0]\n",
      " [1]\n",
      " [0]\n",
      " [0]\n",
      " [1]\n",
      " [1]\n",
      " [0]\n",
      " [1]\n",
      " [1]\n",
      " [1]\n",
      " [1]\n",
      " [0]\n",
      " [1]\n",
      " [0]\n",
      " [1]\n",
      " [0]\n",
      " [1]\n",
      " [0]\n",
      " [1]\n",
      " [0]\n",
      " [0]\n",
      " [1]\n",
      " [1]\n",
      " [1]\n",
      " [1]\n",
      " [1]\n",
      " [0]\n",
      " [0]\n",
      " [1]\n",
      " [0]\n",
      " [1]\n",
      " [0]\n",
      " [1]\n",
      " [0]\n",
      " [1]\n",
      " [1]\n",
      " [1]\n",
      " [1]\n",
      " [1]\n",
      " [0]\n",
      " [1]\n",
      " [1]\n",
      " [0]\n",
      " [1]\n",
      " [0]\n",
      " [1]\n",
      " [0]\n",
      " [1]\n",
      " [1]\n",
      " [1]\n",
      " [1]\n",
      " [1]\n",
      " [1]]\n"
     ]
    }
   ],
   "source": [
    "# Let's define Y variable\n",
    "Y = Y_train\n",
    "print(Y)"
   ]
  },
  {
   "cell_type": "markdown",
   "id": "cf154373",
   "metadata": {},
   "source": [
    "Use `np.random.seed` to set the seed for the NumPy pseudo-random number generator. The pseudo-random number generator produces sequences of numbers that appear random, but they are actually determined by an initial seed value. By setting the seed, you ensure that you get reproducible results when generating random numbers. Don't change the seed number in the following cell."
   ]
  },
  {
   "cell_type": "code",
   "execution_count": 73,
   "id": "78e801e6",
   "metadata": {},
   "outputs": [],
   "source": [
    "np.random.seed(1979)"
   ]
  },
  {
   "cell_type": "markdown",
   "id": "22ef55e9",
   "metadata": {},
   "source": [
    "## Logistic Regression without Regularization"
   ]
  },
  {
   "cell_type": "markdown",
   "id": "f364c510",
   "metadata": {},
   "source": [
    "### Initilize Parameters"
   ]
  },
  {
   "cell_type": "markdown",
   "id": "a4b067d9",
   "metadata": {},
   "source": [
    "\n",
    "Initialize the model parameters with random values. Write a function to initialize the parameters with random values. Note that, due to having an intercept in the linear regression model, the number of parameters should be $p+1$."
   ]
  },
  {
   "cell_type": "code",
   "execution_count": 74,
   "id": "710868a6",
   "metadata": {},
   "outputs": [],
   "source": [
    "def Init_param(p):\n",
    "    # p (scalar): number of parameters\n",
    "    # Output:\n",
    "    # W: 1-dimensional numpy array\n",
    "    # Put your code here (1 line of code)\n",
    "    # Use np.random.rand to initialize the parameters\n",
    "    # Note that W should have p+1 parameters\n",
    "    W =  np.random.rand(p + 1)\n",
    "    \n",
    "    return(W)"
   ]
  },
  {
   "cell_type": "markdown",
   "id": "266fbf52",
   "metadata": {},
   "source": [
    "#### Test Init_param function"
   ]
  },
  {
   "cell_type": "markdown",
   "id": "205d10e2",
   "metadata": {},
   "source": [
    "Now, let's check your `Init_param` function. Run the followng cell:"
   ]
  },
  {
   "cell_type": "code",
   "execution_count": 75,
   "id": "12d1c267",
   "metadata": {},
   "outputs": [
    {
     "data": {
      "text/plain": [
       "array([0.97820931, 0.75000953, 0.55963445, 0.10992111])"
      ]
     },
     "execution_count": 75,
     "metadata": {},
     "output_type": "execute_result"
    }
   ],
   "source": [
    "Init_param(3)"
   ]
  },
  {
   "cell_type": "markdown",
   "id": "068285d8",
   "metadata": {},
   "source": [
    "The expected value is as follows:\n",
    "\n",
    "__array([0.97820931, 0.75000953, 0.55963445, 0.10992111])__"
   ]
  },
  {
   "cell_type": "markdown",
   "id": "4ee68498",
   "metadata": {},
   "source": [
    "### Hypothesis Function"
   ]
  },
  {
   "cell_type": "markdown",
   "id": "075d2038",
   "metadata": {},
   "source": [
    "The hypothesis (or prediction) in logistic regression is given by the sigmoid function, which is applied element-wise:\n",
    "\n",
    "$Y = \\sigma(XW) = \\dfrac{1}{1 + e^{-XW}}$\n",
    "    \n",
    "Here, $Y$ produces a vector of predictions of shape $(m\\times 1)$,\n",
    "\n",
    "where:\n",
    "- $X$ is the matrix of features for all training examples, with each row representing a different example and each column representing a different feature.\n",
    "- $W$ is the vector of coefficients (including the bias term)\n",
    "- One can define $X$,  $W$, and $Y$ as follows:\n",
    "\n",
    "$ X= \\left[ \\begin{array}{ccccc} 1 & x_1^{(1)} & x_2^{(1)} & \\cdots & x_p^{(1)}  \\\\  1 & x_1^{(2)} & x_2^{(2)} & \\cdots & x_p^{(2)} \\\\ \\vdots & \\vdots & \\vdots & \\ddots & \\vdots \\\\\n",
    "   1 & x_1^{(m)} & x_2^{(m)} & \\cdots & x_p^{(m)}  \\end{array} \\right]$, \n",
    "$\\qquad W = \\left[\\begin{array}{c} w_0 \\\\ w_1 \\\\ \\vdots \\\\w_p \\end{array} \\right]$,\n",
    "$\\qquad Y = \\left[\\begin{array}{c}  y_1 \\\\ y_2 \\\\ \\vdots \\\\y_m \\end{array} \\right]$ \n",
    "   \n",
    "where: \n",
    "- $m$ is the number of training examples.\n",
    "- $p$ is the number of features.\n",
    "- $X$ is the matrix of features.\n",
    "- $Y$ is the vector of actual output values."
   ]
  },
  {
   "cell_type": "code",
   "execution_count": 76,
   "id": "30420c89",
   "metadata": {},
   "outputs": [],
   "source": [
    "def sig_fun(X, W):\n",
    "    \n",
    "    # X: a 2-dimensional numpy array containg all the features \n",
    "    # W: 1-dimensional numpy array containg the weights of the model\n",
    "    \n",
    "    \n",
    "    # Put your code here (1 line of code)\n",
    "    # Implement the sigmoid function\n",
    "    Y = 1/(1 + np.exp(- np.dot(X, W)))\n",
    "    \n",
    "    # Make Y a two dimensional arrray\n",
    "    Y = np.expand_dims(Y, axis=1)\n",
    "    \n",
    "    return Y"
   ]
  },
  {
   "cell_type": "markdown",
   "id": "03e714dd",
   "metadata": {},
   "source": [
    "#### Test sig_fun"
   ]
  },
  {
   "cell_type": "markdown",
   "id": "9b8f3e5d",
   "metadata": {},
   "source": [
    "Now, let's check `sig_fun` that you have already implemented. Run the following cell:"
   ]
  },
  {
   "cell_type": "code",
   "execution_count": 77,
   "id": "c5dc3235",
   "metadata": {},
   "outputs": [
    {
     "data": {
      "text/plain": [
       "array([[0.70557733],\n",
       "       [0.29733935]])"
      ]
     },
     "execution_count": 77,
     "metadata": {},
     "output_type": "execute_result"
    }
   ],
   "source": [
    "W1 = np.array([0.8, 0.7 , -0.5 , 0.3])\n",
    "X1 = np.array([[0.33, 0.5, -0.1,0.7],[-0.6, -0.2, 0.9, 0.7]])\n",
    "sig_fun(X1, W1)"
   ]
  },
  {
   "cell_type": "markdown",
   "id": "e3a230fe",
   "metadata": {},
   "source": [
    "The expected output is:\n",
    "\n",
    "array([0.70557733],\n",
    "\n",
    "     [0.29733935]])"
   ]
  },
  {
   "cell_type": "markdown",
   "id": "bab099ea",
   "metadata": {},
   "source": [
    "### Compute Cost Function "
   ]
  },
  {
   "cell_type": "markdown",
   "id": "6252828a",
   "metadata": {},
   "source": [
    "\n",
    "In this section, you are supposed to write a function to calculate the cost function. The cost function $J(W)$ for logistic regression in vectorized form is:\n",
    "\n",
    "$J(W)= - \\dfrac{1}{m}\\left[Y^\\top \\log(\\hat{Y}) + (\\mathbf{1}-Y)^\\top \\log (\\mathbf{1}- \\hat{Y})\\right]$\n",
    "    \n",
    "note that $\\mathbf{1}$ is a column vector of ones; $\\hat{Y}$ represents the predictions computed by the sigmoid function;  $\\log(\\hat{Y})$ and $\\log (\\mathbf{1}- \\hat{Y})$  are element-wise operations."
   ]
  },
  {
   "cell_type": "code",
   "execution_count": 78,
   "id": "075c8e78",
   "metadata": {},
   "outputs": [],
   "source": [
    "def cost_fun(X,Y,W):\n",
    "    # X: a 2-dimensional numpy array containg all the features \n",
    "    # Y: a 2-dimensional numpy array containing all the response variables\n",
    "    # W: 1-dimensional numpy array containg the weights of the model\n",
    "    \n",
    "    # Put your code here ( 1line of code)\n",
    "    # Define the number of observations\n",
    "    m = X.shape[0]\n",
    "    \n",
    "    # Put your code here (1 line of code)\n",
    "    # Compute the predictions using W and X\n",
    "    # Use sig_fun to compute the Y_pred\n",
    "    Y_pred = sig_fun(X, W)\n",
    "    \n",
    "    # To avoid log(0) you need the following line of code\n",
    "    # Refer to the documentation of np.clip for further explanations.\n",
    "    Y_pred = np.clip(Y_pred, 1e-15, 1 - 1e-15)\n",
    "    \n",
    "    \n",
    "    # Put your code here (1 line of code)\n",
    "    # Define the cost function using the vectorized form\n",
    "    J = -(1/m) * np.sum(Y * np.log(Y_pred) + (1 - Y) * np.log(1 - Y_pred))\n",
    "    \n",
    "    \n",
    "    return np.squeeze(J)"
   ]
  },
  {
   "cell_type": "markdown",
   "id": "dc49251c",
   "metadata": {},
   "source": [
    "#### Test cost_fun"
   ]
  },
  {
   "cell_type": "markdown",
   "id": "5ee09a98",
   "metadata": {},
   "source": [
    "Now, let's check your already developed `cost_fun` function by running the following cell. Compare your result with the expected value. "
   ]
  },
  {
   "cell_type": "code",
   "execution_count": 79,
   "id": "061040bf",
   "metadata": {},
   "outputs": [
    {
     "data": {
      "text/plain": [
       "2.2763863157139896"
      ]
     },
     "execution_count": 79,
     "metadata": {},
     "output_type": "execute_result"
    }
   ],
   "source": [
    "X1 = np.array([[1., 0.70175439, 1., 0.5],\n",
    "               [1., 0.49122807, 0.33333333, 0.7],\n",
    "               [1., 0.74561404, 0.66666667, 0.6]])\n",
    "          \n",
    "Y1 = np.array([[1],\n",
    "               [1],\n",
    "               [0]])\n",
    "          \n",
    "W1 = np.array([3, 2, -1, 5])\n",
    "cost_fun(X1,Y1,W1)"
   ]
  },
  {
   "cell_type": "markdown",
   "id": "a5c03809",
   "metadata": {},
   "source": [
    "The expected value is:\n",
    "\n",
    "**array(2.27638632)**"
   ]
  },
  {
   "cell_type": "markdown",
   "id": "25b26513",
   "metadata": {},
   "source": [
    "### Gradient Descent Update Rule without Regularization"
   ]
  },
  {
   "cell_type": "markdown",
   "id": "be8af2eb",
   "metadata": {},
   "source": [
    "\n",
    "Now, you can implement Gradient Descent update rule (without regularization) utilizing your previousely developed functions. Actually, you have to implement the following rule here:\n",
    "\n",
    "$$W := W - \\alpha \\dfrac{1}{m}X^\\top(\\hat{Y}-Y)$$"
   ]
  },
  {
   "cell_type": "code",
   "execution_count": 80,
   "id": "66ed9833",
   "metadata": {},
   "outputs": [],
   "source": [
    "def grad_descent_step_wr(X, Y, W, alf):\n",
    "    # X: a 2-dimensional numpy array containg all the features \n",
    "    # Y: a 2-dimensional numpy array containing all the response variables\n",
    "    # W: 1-dimensional numpy array containg the weights of the model\n",
    "    # alf: learning rate\n",
    "    \n",
    "    # Put your code here (1 line of code)\n",
    "    # Define the number of observations\n",
    "    m = X.shape[0]\n",
    "    \n",
    "    # Put your code here (1 line of code)\n",
    "    # Compute the predictions using W and X\n",
    "    # Use sig_fun to compute the Y_pred\n",
    "    Y_pred = sig_fun(X, W)\n",
    "    \n",
    "    # Add one dimension to make it suitable for updating\n",
    "    W = np.expand_dims(W, axis=1)\n",
    "    \n",
    "    # Put your code here (1 line of code)\n",
    "    # Implement the update rule\n",
    "    W_new = W - alf * (1/m) * np.dot(X.T, (Y_pred - Y))\n",
    "    \n",
    "    return np.squeeze(W_new)"
   ]
  },
  {
   "cell_type": "markdown",
   "id": "1a1b9824",
   "metadata": {},
   "source": [
    "#### Test grad_descent_step_wr"
   ]
  },
  {
   "cell_type": "markdown",
   "id": "8b445588",
   "metadata": {},
   "source": [
    "Now, let's check the `grad_descent_step_wr` function (without regularization). Run the following cell and compare the obtained result with the expected one."
   ]
  },
  {
   "cell_type": "code",
   "execution_count": 81,
   "id": "491a6188",
   "metadata": {},
   "outputs": [
    {
     "data": {
      "text/plain": [
       "array([ 2.99666849,  1.9975158 , -1.00222095,  4.99666849])"
      ]
     },
     "execution_count": 81,
     "metadata": {},
     "output_type": "execute_result"
    }
   ],
   "source": [
    "X2 = np.array([[1., 0.70175439, 1., 1.],\n",
    "              [1., 0.49122807, 0.33333333, 1.],\n",
    "              [1., 0.74561404, 0.66666667, 1.]])\n",
    "          \n",
    "Y2 = np.array([[1],\n",
    "              [1],\n",
    "              [0]])\n",
    "\n",
    "W2 = np.array([3, 2, -1, 5])\n",
    "\n",
    "grad_descent_step_wr(X2, Y2, W2, alf=0.01)"
   ]
  },
  {
   "cell_type": "markdown",
   "id": "25e13a62",
   "metadata": {},
   "source": [
    "The expected value is as follows:\n",
    "\n",
    "**array([ 2.99666849,  1.9975158, -1.00222095,  4.99666849])**"
   ]
  },
  {
   "cell_type": "markdown",
   "id": "f52e9b73",
   "metadata": {},
   "source": [
    "### Implement Gradient Descent Algorithm without Regularization"
   ]
  },
  {
   "cell_type": "markdown",
   "id": "27607cce",
   "metadata": {},
   "source": [
    "\n",
    "Now, it is time to put together all the previously developed functions to build a linear regression model from scratch."
   ]
  },
  {
   "cell_type": "code",
   "execution_count": 82,
   "id": "97ee36e2",
   "metadata": {},
   "outputs": [],
   "source": [
    "# Put your code here (1 line of code)\n",
    "# Choose an initial value for model parameters, use Init_param function\n",
    "w_init = Init_param(p)\n",
    "\n",
    "# Put your code here (1 line of code)\n",
    "# Choose the learning rate\n",
    "alf = 0.01\n",
    "\n",
    "# Put your code here (1 line of code)\n",
    "# Choose the number of iterations\n",
    "N = 10000\n",
    "\n",
    "# Save the values for W and the COST values\n",
    "W = np.zeros((p + 1, N+1))\n",
    "\n",
    "COST = np.zeros(N + 1)\n",
    "\n",
    "# Save initial values\n",
    "W[:,0] = np.squeeze(w_init)\n",
    "COST[0] = cost_fun(X, Y, w_init)\n",
    "\n",
    "# This is a for loop to implement the Gradient Descent algorithm\n",
    "for n in range(N):\n",
    "    \n",
    "    # Put your code here (1 line of code)\n",
    "    # Use grad_descent_step_wr to update the values for w\n",
    "    w_new = grad_descent_step_wr(X, Y, W[:,n], alf)\n",
    "    \n",
    "    # Save the new value for w\n",
    "    W[:, n + 1] = w_new\n",
    "    \n",
    "    # Put your code here (1 line of code)\n",
    "    # Save the cost value for newly obtained w using the cost_fun\n",
    "    COST[n+1] = cost_fun(X, Y, w_new)\n"
   ]
  },
  {
   "cell_type": "markdown",
   "id": "2bc535d7",
   "metadata": {},
   "source": [
    "#### Plot the cost function values versus iteration"
   ]
  },
  {
   "cell_type": "markdown",
   "id": "d2349630",
   "metadata": {},
   "source": [
    "Now, it is time to plot the cost function versus iterations to check the convergence of the gradient descent algorithm."
   ]
  },
  {
   "cell_type": "code",
   "execution_count": 83,
   "id": "220c7cc8",
   "metadata": {},
   "outputs": [
    {
     "data": {
      "image/png": "[encoded data removed]",
      "text/plain": [
       "<Figure size 640x480 with 1 Axes>"
      ]
     },
     "metadata": {},
     "output_type": "display_data"
    }
   ],
   "source": [
    "# Put your code here (1 line of code)\n",
    "# Plot the cost function values per iteration; these values are already saved in COST.\n",
    "plt.plot(range(N + 1), COST)\n",
    "\n",
    "plt.xlabel('Iteration')\n",
    "plt.ylabel('Value')\n",
    "plt.title('Cost Function Values vs. Iteration')\n",
    "plt.show()"
   ]
  },
  {
   "cell_type": "markdown",
   "id": "dd3cbf09",
   "metadata": {},
   "source": [
    "#### Plot the model coefficients versus iteration"
   ]
  },
  {
   "cell_type": "markdown",
   "id": "81308416",
   "metadata": {},
   "source": [
    "Now, let's see how the coefficients converge to the optimal values. In fact, we need to plot the coefficients versus the algorithm's iterations."
   ]
  },
  {
   "cell_type": "code",
   "execution_count": 84,
   "id": "7dc1bac1",
   "metadata": {},
   "outputs": [
    {
     "data": {
      "image/png": "[encoded data removed]",
      "text/plain": [
       "<Figure size 1400x1000 with 5 Axes>"
      ]
     },
     "metadata": {},
     "output_type": "display_data"
    }
   ],
   "source": [
    "# Choose number of rows and columns for illustrating W vs. Iteration\n",
    "# Create a grid of subplots\n",
    "fig, axes = plt.subplots(3, 2, figsize=(14, 10))  \n",
    "\n",
    "# Plot on the first subplot W[0] vs. Iteration\n",
    "axes[0, 0].plot(range(N+1), W[0, :])\n",
    "axes[0, 0].set_title(\"W0 vs. Iteration\")\n",
    "\n",
    "# Plot on the second subplot W[1] vs. Iteration\n",
    "axes[0, 1].plot(range(N+1), W[1, :])\n",
    "axes[0, 1].set_title(\"W1 vs. Iteration\")\n",
    "\n",
    "# Plot on the third subplot W[2] vs. Iteration\n",
    "axes[1, 0].plot(range(N+1), W[2, :])\n",
    "axes[1, 0].set_title(\"W2 vs. Iteration\")\n",
    "\n",
    "# Plot on the fourth subplot W[3] vs. Iteration\n",
    "axes[1, 1].plot(range(N+1), W[3, :])\n",
    "axes[1, 1].set_title(\"W3 vs. Iteration\")\n",
    "\n",
    "# Plot on the fifth subplot W[4] vs. Iteration (if you have 5 features)\n",
    "axes[2, 0].plot(range(N+1), W[4, :])\n",
    "axes[2, 0].set_title(\"W4 vs. Iteration\")\n",
    "\n",
    "# If you have more features, you can add additional subplots here...\n",
    "\n",
    "fig.delaxes(axes[2, 1])\n",
    "# Adjust layout and show the plots\n",
    "plt.tight_layout()\n",
    "plt.show()"
   ]
  },
  {
   "cell_type": "markdown",
   "id": "fa44e078",
   "metadata": {},
   "source": [
    "#### Find the optimal coefficient values"
   ]
  },
  {
   "cell_type": "markdown",
   "id": "6cc882da",
   "metadata": {},
   "source": [
    "Now, it is time to define the model parameters. In fact, they are the last values saved."
   ]
  },
  {
   "cell_type": "code",
   "execution_count": 85,
   "id": "a5122e5d",
   "metadata": {},
   "outputs": [
    {
     "name": "stdout",
     "output_type": "stream",
     "text": [
      "The obtained coefficient values are:\n",
      " [ 1.46690757  2.14763597 -2.95068623  1.04186725  0.44433952]\n"
     ]
    }
   ],
   "source": [
    "# Put your code here (1 line of code)\n",
    "# Find the last obtained parameter values from the algorithm; \n",
    "# you have already save all the values in W\n",
    "W_opt = W[:, -1]\n",
    "\n",
    "print('The obtained coefficient values are:\\n',W_opt)"
   ]
  },
  {
   "cell_type": "markdown",
   "id": "7f22d45c",
   "metadata": {},
   "source": [
    "### Prediction "
   ]
  },
  {
   "cell_type": "markdown",
   "id": "2f524049",
   "metadata": {},
   "source": [
    "Now, it is time to create a prediction function, which we will later use for model evaluation. This function computes the labels for a set of observations."
   ]
  },
  {
   "cell_type": "code",
   "execution_count": 86,
   "id": "75dd319d",
   "metadata": {},
   "outputs": [],
   "source": [
    "def pred_fun(X, W, threshold = 0.5):\n",
    "    \n",
    "    # X: a 2-dimensional numpy array containg all the features for the test set \n",
    "    # W: 1-dimensional numpy array containg the weights of the model\n",
    "    \n",
    "    # Put your code here (1 line of code)\n",
    "    # Compute the probability using the sig_fun\n",
    "    prob = sig_fun(X, W)\n",
    "    \n",
    "    # Put your code here (1 line of code)\n",
    "    # Define the label based on the computed probabilities and threshold\n",
    "    pred = (prob >= threshold).astype(int)\n",
    "    \n",
    "    return pred  "
   ]
  },
  {
   "cell_type": "markdown",
   "id": "d9f4f9d8",
   "metadata": {},
   "source": [
    "#### Test pred_fun"
   ]
  },
  {
   "cell_type": "markdown",
   "id": "c3fecc1e",
   "metadata": {},
   "source": [
    "Now, you can test your `pred_fun` to ensure it is implemented correctly. Run the following cell and compare its output with the expected result."
   ]
  },
  {
   "cell_type": "code",
   "execution_count": 87,
   "id": "2fce3d15",
   "metadata": {
    "scrolled": true
   },
   "outputs": [
    {
     "data": {
      "text/plain": [
       "array([[1],\n",
       "       [0]])"
      ]
     },
     "execution_count": 87,
     "metadata": {},
     "output_type": "execute_result"
    }
   ],
   "source": [
    "W1 = np.array([0.8, 0.7 , -0.5 , 0.3])\n",
    "X1 = np.array([[0.33, 0.5, -0.1,0.7],[-0.6, -0.2, 0.9, 0.7]])\n",
    "pred_fun(X1, W1, threshold = 0.5)"
   ]
  },
  {
   "cell_type": "markdown",
   "id": "693c58c5",
   "metadata": {},
   "source": [
    "Expected out put is: \n",
    "\n",
    "array([ [ 1 ],\n",
    "\n",
    "    [0]])"
   ]
  },
  {
   "cell_type": "markdown",
   "id": "e90f3aa1",
   "metadata": {},
   "source": [
    "### Evaluate your model using a test dataset"
   ]
  },
  {
   "cell_type": "markdown",
   "id": "74a66eab",
   "metadata": {},
   "source": [
    "In the following cell, you are asked to implement the accuracy function to evaluate your trained model. First, you need to compute the labels for the test set, and then calculate the accuracy for the test set."
   ]
  },
  {
   "cell_type": "code",
   "execution_count": 88,
   "id": "974efd1f",
   "metadata": {},
   "outputs": [],
   "source": [
    "def eval_fun(X,Y, W_opt, threshold=0.5):\n",
    "    \n",
    "    # X: a 2-dimensional numpy array containg all the features for the test set \n",
    "    # Y: a 2-dimensional numpy array containing true labels\n",
    "    # W_opt: 1-dimensional numpy array containg the weights of the model\n",
    "    # Threshold is an integer; if the probability is higher than it, the label is set to 1.\n",
    "    \n",
    "    # Put your code here (1 line of code)\n",
    "    # You have to use X and Y to evaluate your model\n",
    "    # Use pred_fun that you have already developed\n",
    "    Y_pred = pred_fun(X, W_opt, threshold)\n",
    "    \n",
    "    # Put your code here (1 line of code)\n",
    "    # compute the accuracy\n",
    "    accuracy = np.mean(Y_pred == Y)\n",
    "    \n",
    "    return accuracy"
   ]
  },
  {
   "cell_type": "markdown",
   "id": "ec6f17b0",
   "metadata": {},
   "source": [
    "#### Test eval_fun"
   ]
  },
  {
   "cell_type": "markdown",
   "id": "d8a6530c",
   "metadata": {},
   "source": [
    "Now that you have implemented the `eval_fun`, please run the following cell to ensure it works correctly and compare its output with the expected result."
   ]
  },
  {
   "cell_type": "code",
   "execution_count": 89,
   "id": "3cd8644a",
   "metadata": {},
   "outputs": [
    {
     "data": {
      "text/plain": [
       "0.75"
      ]
     },
     "execution_count": 89,
     "metadata": {},
     "output_type": "execute_result"
    }
   ],
   "source": [
    "W3 = np.array([0.8, 0.7 , -0.5 , 0.3])\n",
    "X3 = np.array([[0.33, 0.5, -0.1,0.7],[-0.6, -0.2, 0.9, 0.7], [0.4, 0.2, 0.8, 0.7], [0, 0.2, 1, 0.6]])\n",
    "Y3 = np.array([[1], [0], [0],[0]])\n",
    "eval_fun(X3,Y3, W3, threshold=0.5)"
   ]
  },
  {
   "cell_type": "markdown",
   "id": "b24cb818",
   "metadata": {},
   "source": [
    "Expected output: 0.75"
   ]
  },
  {
   "cell_type": "markdown",
   "id": "7fdfccc1",
   "metadata": {},
   "source": [
    "Now, you have reached the final step of the training cycle: evaluating your model. Specifically, you are asked to compute the accuracy of your model using `eval_fun`."
   ]
  },
  {
   "cell_type": "code",
   "execution_count": 90,
   "id": "d43ea9cf",
   "metadata": {},
   "outputs": [
    {
     "name": "stdout",
     "output_type": "stream",
     "text": [
      "0.8666666666666667\n"
     ]
    }
   ],
   "source": [
    "# Note: You need to transform the test set first.\n",
    "# Additionally, add 1 to each feature vector.\n",
    "X_test = scaler.transform(Features_test)\n",
    "X_t = np.insert(X_test,0,1, axis=1)\n",
    "\n",
    "Y_test = Target_test.to_numpy()\n",
    "\n",
    "# Put your code here (1 line of code)\n",
    "# Use eval_fun to compute the accuracy of your model\n",
    "accuracy = eval_fun(X_t, Y_test, W_opt, threshold= 0.5)\n",
    "print (accuracy)"
   ]
  },
  {
   "cell_type": "markdown",
   "id": "a7050b1d",
   "metadata": {},
   "source": [
    "### Comparison with Scikit-Learn"
   ]
  },
  {
   "cell_type": "markdown",
   "id": "94c66470",
   "metadata": {},
   "source": [
    "Now that you have trained a model, let's train the model using scikit-learn to make sure that your implementation is correct."
   ]
  },
  {
   "cell_type": "code",
   "execution_count": 91,
   "id": "a3d75982",
   "metadata": {},
   "outputs": [
    {
     "data": {
      "text/plain": [
       "array([ 1.87934368,  2.6675191 , -3.27933457,  0.82011807, -0.04859071])"
      ]
     },
     "execution_count": 91,
     "metadata": {},
     "output_type": "execute_result"
    }
   ],
   "source": [
    "from sklearn.linear_model import LogisticRegression\n",
    "model = LogisticRegression()\n",
    "\n",
    "model.fit(X_train, np.squeeze(Y_train))\n",
    "\n",
    "# Let's create a vector of parameters similar to what we obtained using the Gradient Descent algorithm.\n",
    "W_scikitLeran = np.concatenate((model.intercept_, np.squeeze(model.coef_)))\n",
    "W_scikitLeran"
   ]
  },
  {
   "cell_type": "markdown",
   "id": "f9c3d2fd",
   "metadata": {},
   "source": [
    "Now let's have a look again on your obtained W_opt:"
   ]
  },
  {
   "cell_type": "code",
   "execution_count": 92,
   "id": "ff89f3c3",
   "metadata": {},
   "outputs": [
    {
     "data": {
      "text/plain": [
       "array([ 1.46690757,  2.14763597, -2.95068623,  1.04186725,  0.44433952])"
      ]
     },
     "execution_count": 92,
     "metadata": {},
     "output_type": "execute_result"
    }
   ],
   "source": [
    "W_opt"
   ]
  },
  {
   "cell_type": "markdown",
   "id": "2341de09",
   "metadata": {},
   "source": [
    "Let's also compute the accuracy using scikit-learn."
   ]
  },
  {
   "cell_type": "code",
   "execution_count": 93,
   "id": "573e7f82",
   "metadata": {},
   "outputs": [
    {
     "name": "stdout",
     "output_type": "stream",
     "text": [
      "Accuracy: 0.9000\n"
     ]
    }
   ],
   "source": [
    "from sklearn.metrics import accuracy_score\n",
    "Y_pred = model.predict(X_test)\n",
    "accuracy = accuracy_score(Y_test, Y_pred)\n",
    "print(f\"Accuracy: {accuracy:.4f}\")"
   ]
  },
  {
   "cell_type": "markdown",
   "id": "fcf0d022",
   "metadata": {},
   "source": [
    "Your model parameter vector needs to be close to that of scikit-learn. If it is not the case, try fine-tuning the hyperparameters to get similar results. However, don't worry if there are small differences."
   ]
  },
  {
   "cell_type": "markdown",
   "id": "5b5cca64",
   "metadata": {},
   "source": [
    "*****"
   ]
  },
  {
   "cell_type": "markdown",
   "id": "761f8ca6",
   "metadata": {},
   "source": [
    "## Logistic Regression with Regularization"
   ]
  },
  {
   "cell_type": "markdown",
   "id": "c72d9b8b",
   "metadata": {},
   "source": [
    " ### Compute Cost Function with Regularization"
   ]
  },
  {
   "cell_type": "markdown",
   "id": "564eeaa0",
   "metadata": {},
   "source": [
    "In this section, you implement a function to calculate the cost function with regularization. Actually, you need to implement the following cost function:\n",
    "\n",
    "$J(W)= - \\dfrac{1}{m}\\left[Y^\\top \\log(\\hat{Y}) + (\\mathbf{1}-Y)^\\top \\log (\\mathbf{1}- \\hat{Y})\\right] + \\dfrac{\\lambda}{2m}W^\\top\\Pi W$\n",
    "\n",
    "where \n",
    "\n",
    "$\\Pi = \\left[\\begin{array}{cc} 0 & 0_{1\\times p}\\\\ 0_{p\\times 1} & I_p \\end{array}\\right]$\n",
    "\n",
    "and $\\lambda$ is the regularization parameter.\n",
    "\n",
    "Note that\n",
    "\n",
    "$\\hat{Y} = \\sigma(XW) = \\dfrac{1}{1 + e^{-XW}}$"
   ]
  },
  {
   "cell_type": "code",
   "execution_count": 113,
   "id": "1cf8791c",
   "metadata": {},
   "outputs": [],
   "source": [
    "def cost_fun_reg(X, Y, W, lam):\n",
    "    # X: a 2-dimensional numpy array containg all the features \n",
    "    # Y: a 2-dimensional numpy array containing all the response variables\n",
    "    # W: 1-dimensional numpy array containg the weights of the model\n",
    "    # lam: regularization parameter\n",
    "    \n",
    "    # Put your code here (1 line of code)\n",
    "    # Define the number of observations\n",
    "    m = X.shape[0]\n",
    "    \n",
    "    # Put your code here (1 line of code)\n",
    "    # Define the number of features\n",
    "    # Note that we have already added 1 to every observation \n",
    "    p = X.shape[1] - 1\n",
    "\n",
    "    \n",
    "    # Put your code here (1 line of code)\n",
    "    # Compute the predictions using W and X\n",
    "    # Use sig_fun to compute the Y_pred\n",
    "    Y_pred = sig_fun(X, W)\n",
    "    \n",
    "    # To avoid log(0) you need the following line of code\n",
    "    # Refer to the documentation of np.clip for further explanations.\n",
    "    Y_pred = np.clip(Y_pred, 1e-15, 1 - 1e-15)\n",
    "    \n",
    "    # Define matrix PI (1 line of code)\n",
    "    # Use np.block() np.zeros() and np.eye()\n",
    "    # PI = np.block([[np.zeros((1, 1)), np.zeros((1, W.shape[0] - 1))],  [np.zeros((W.shape[0] - 1, 1)), np.eye(W.shape[0] - 1)]])\n",
    "    PI = np.eye(W.shape[0])\n",
    "    PI[0, 0] = 0\n",
    "    \n",
    "    # Put your code here (1 line of code)\n",
    "    # Define the cost function using the vectorized form\n",
    "    J = -(1/m) * (np.dot(Y.T, np.log(Y_pred)) + np.dot((1 - Y).T, np.log(1 - Y_pred))) + (lam / (2 * m)) * np.dot(W.T, np.dot(PI, W))\n",
    "    \n",
    "    \n",
    "    return np.squeeze(J)"
   ]
  },
  {
   "cell_type": "markdown",
   "id": "edfd11d2",
   "metadata": {},
   "source": [
    "#### Test cost_fun_reg"
   ]
  },
  {
   "cell_type": "markdown",
   "id": "ae0b419d",
   "metadata": {},
   "source": [
    "Run the following cell to ensure that you have implemented `cost_fun_reg` correctly:"
   ]
  },
  {
   "cell_type": "code",
   "execution_count": 114,
   "id": "12a40e2e",
   "metadata": {},
   "outputs": [
    {
     "data": {
      "text/plain": [
       "array(17.27638632)"
      ]
     },
     "execution_count": 114,
     "metadata": {},
     "output_type": "execute_result"
    }
   ],
   "source": [
    "X1 = np.array([[1., 0.70175439, 1., 0.5],\n",
    "               [1., 0.49122807, 0.33333333, 0.7],\n",
    "               [1., 0.74561404, 0.66666667, 0.6]])\n",
    "          \n",
    "Y1 = np.array([[1],\n",
    "               [1],\n",
    "               [0]])\n",
    "          \n",
    "W1 = np.array([3, 2, -1, 5])\n",
    "\n",
    "cost_fun_reg(X1,Y1,W1, 3)"
   ]
  },
  {
   "cell_type": "markdown",
   "id": "296cf671",
   "metadata": {},
   "source": [
    "Expected output: __array(-27.72361368)__"
   ]
  },
  {
   "cell_type": "markdown",
   "id": "de03299d",
   "metadata": {},
   "source": [
    "### Gradient Descent Update Rule with Regularization"
   ]
  },
  {
   "cell_type": "markdown",
   "id": "18807f0f",
   "metadata": {},
   "source": [
    "Now it is time to implement Gradient Descent update rule (with regularization) utilizing your previousely developed functions. Actually, you have to implement the following rule here:\n",
    "\n",
    "$$W := W  - \\dfrac{\\alpha}{m} \\left[X^\\top(\\hat{Y} - Y) + \\lambda \\Pi W \\right]$$ \n",
    "\n",
    "where\n",
    "\n",
    "$$\\Pi = \\left[\\begin{array}{cc} 0 & 0_{1\\times p} \\\\ 0_{p\\times 1} & 0\\end{array} \\right]$$\n",
    "\n",
    "and  $\\lambda$ is the regularization parameter, $p$ is the number of features."
   ]
  },
  {
   "cell_type": "code",
   "execution_count": 96,
   "id": "2bcbbbdf",
   "metadata": {},
   "outputs": [],
   "source": [
    "def grad_descent_step_reg(X, Y, W, alf, lam):\n",
    "    # X: a 2-dimensional numpy array containg all the features \n",
    "    # Y: a 2-dimensional numpy array containing all the response variables\n",
    "    # W: 1-dimensional numpy array containg the weights of the model\n",
    "    # alf: learning rate\n",
    "    # lam: regularization parameter\n",
    "       \n",
    "    # Put your code here (1 line of code)\n",
    "    # Define the number of observations\n",
    "    m = X.shape[0]\n",
    "    \n",
    "    # Put your code here (1 line of code)\n",
    "    # Define the number of features\n",
    "    # Note that we have already added 1 to every observation \n",
    "    p = 4\n",
    "    \n",
    "    # Put your code here (1 line of code)\n",
    "    # Compute the predictions using W and X\n",
    "    # Use sig_fun to compute the Y_pred\n",
    "    Y_pred = sig_fun(X, W)\n",
    "    \n",
    "    # Add one dimension to make it suitable for updating\n",
    "    W = np.expand_dims(W, axis=1)\n",
    "    \n",
    "    # Define matrix PI (1 line of code)\n",
    "    # Use np.block() np.zeros() and np.eye()\n",
    "    PI = np.block([[np.zeros((1, 1)), np.zeros((1, W.shape[0] - 1))],  [np.zeros((W.shape[0] - 1, 1)), np.eye(W.shape[0] - 1)]])\n",
    "    \n",
    "    # Put your code here (1 line of code)\n",
    "    # Implement the update rule\n",
    "    W_new = W - (alf/m)*(np.dot(X.T, (Y_pred - Y)) + lam * np.dot(PI, W))\n",
    "    \n",
    "    return np.squeeze(W_new)"
   ]
  },
  {
   "cell_type": "markdown",
   "id": "a98a04f8",
   "metadata": {},
   "source": [
    "#### Test grad_descent_step_reg"
   ]
  },
  {
   "cell_type": "markdown",
   "id": "a00c98dc",
   "metadata": {},
   "source": [
    "Now, let's check the `grad_descent_step_reg` function (Gradient Descent with Regularization). Run the following cell and compare the obtained result with the expected one."
   ]
  },
  {
   "cell_type": "code",
   "execution_count": 116,
   "id": "51363d9a",
   "metadata": {},
   "outputs": [
    {
     "data": {
      "text/plain": [
       "array([ 2.99666849,  1.96418246, -0.98555429,  4.91333515])"
      ]
     },
     "execution_count": 116,
     "metadata": {},
     "output_type": "execute_result"
    }
   ],
   "source": [
    "X2 = np.array([[1., 0.70175439, 1., 1.],\n",
    "              [1., 0.49122807, 0.33333333, 1.],\n",
    "              [1., 0.74561404, 0.66666667, 1.]])\n",
    "          \n",
    "Y2 = np.array([[1],\n",
    "              [1],\n",
    "              [0]])\n",
    "\n",
    "W2 = np.array([3, 2, -1, 5])\n",
    "\n",
    "grad_descent_step_reg(X2, Y2, W2, alf=0.01, lam=5)"
   ]
  },
  {
   "cell_type": "markdown",
   "id": "b4521038",
   "metadata": {},
   "source": [
    "Expected output: \n",
    "    \n",
    "__array( [ 2.99666849,    1.96418246,   -0.98555429,    4.91333515] )__"
   ]
  },
  {
   "cell_type": "markdown",
   "id": "c88a5500",
   "metadata": {},
   "source": [
    "### Implement Gradient Descent Algorithm with Regularization"
   ]
  },
  {
   "cell_type": "markdown",
   "id": "a68140aa",
   "metadata": {},
   "source": [
    "Now, it is time to put together all the previously developed functions to build a logistic regression model with regularization."
   ]
  },
  {
   "cell_type": "code",
   "execution_count": 117,
   "id": "aec93e45",
   "metadata": {},
   "outputs": [],
   "source": [
    "# Put your code here (1 line of code)\n",
    "# Choose an initial value for model parameters, use Init_param function\n",
    "w_init = Init_param(p)\n",
    "\n",
    "# Put your code here (1 line of code)\n",
    "# Choose the learning rate\n",
    "alf = 0.001\n",
    "\n",
    "# Put your code here (1 line of code)\n",
    "# Choose the regularization parameter\n",
    "lam = 20\n",
    "\n",
    "# Put your code here (1 line of code)\n",
    "# Choose the number of iterations\n",
    "N = 15000\n",
    "\n",
    "# Save the values for W and the COST values\n",
    "W = np.zeros((p + 1, N+1))\n",
    "COST_reg = np.zeros(N + 1)\n",
    "\n",
    "# Save initial values\n",
    "# Use cost_fun_reg to compute the initial value for cost function\n",
    "W[:,0] = np.squeeze(w_init)\n",
    "COST_reg[0] = cost_fun_reg(X, Y, w_init, lam)\n",
    "\n",
    "# This is a for loop to implement the Gradient Descent algorithm\n",
    "for n in range(N):\n",
    "    \n",
    "    # Put your code here (1 line of code)\n",
    "    # Use grad_descent_step_reg to update the values for w\n",
    "    w_new = grad_descent_step_reg(X, Y, W[:,n], alf, lam)\n",
    "    \n",
    "    # Save the new value for w\n",
    "    W[:, n + 1] = w_new\n",
    "    \n",
    "    # Put your code here (1 line of code)\n",
    "    # Save the cost value for newly obtained w using the cost_fun_reg\n",
    "    COST_reg[n+1] = cost_fun_reg(X, Y, W[:, n + 1], lam )\n"
   ]
  },
  {
   "cell_type": "markdown",
   "id": "47bdf5f7",
   "metadata": {},
   "source": [
    "#### Plot the cost function values versus iteration"
   ]
  },
  {
   "cell_type": "markdown",
   "id": "91b936f9",
   "metadata": {},
   "source": [
    "Now, it is time to plot the cost function against the number of iterations to gain insight into how the Gradient Descent algorithm converges to its final value."
   ]
  },
  {
   "cell_type": "code",
   "execution_count": 118,
   "id": "20caeb8d",
   "metadata": {},
   "outputs": [
    {
     "data": {
      "image/png": "[encoded data removed]",
      "text/plain": [
       "<Figure size 640x480 with 1 Axes>"
      ]
     },
     "metadata": {},
     "output_type": "display_data"
    }
   ],
   "source": [
    "# Put your code here (1 line of code)\n",
    "# Plot the cost function values per iteration; these values are already saved in COST_reg.\n",
    "plt.plot(range(N + 1), COST_reg)\n",
    "\n",
    "plt.xlabel('Iteration')\n",
    "plt.ylabel('Value')\n",
    "plt.title('Cost Function Values vs. Iteration')\n",
    "plt.show()"
   ]
  },
  {
   "cell_type": "markdown",
   "id": "e2c643dc",
   "metadata": {},
   "source": [
    "#### Plotting Model Coefficients Against Iterations (with Regularization)"
   ]
  },
  {
   "cell_type": "markdown",
   "id": "eab6c523",
   "metadata": {},
   "source": [
    "Now, let's see how the coefficients converge to the optimal values. In fact, we need to plot the coefficients versus the algorithm's iterations."
   ]
  },
  {
   "cell_type": "code",
   "execution_count": 119,
   "id": "750ca7c5",
   "metadata": {},
   "outputs": [
    {
     "data": {
      "image/png": "[encoded data removed]",
      "text/plain": [
       "<Figure size 1200x800 with 5 Axes>"
      ]
     },
     "metadata": {},
     "output_type": "display_data"
    }
   ],
   "source": [
    "# Put your code here (1 line of code)\n",
    "# Choose number of rows and columns for illustrating W vs. Iteration\n",
    "# Create a grid of subplots \n",
    "# You can change the number of rows and columns in the subplot\n",
    "# change the figsize in the following code if you want\n",
    "N = np.arange(len(W[0]))\n",
    "fig, axes = plt.subplots(3, 2, figsize=(12, 8))\n",
    "\n",
    "# Plot on the first subplot W[0] vs. Iteration\n",
    "axes[0, 0].plot(N + 1, W[0])\n",
    "axes[0, 0].set_title(\"W0 vs. Iteration\")\n",
    "\n",
    "# Put your code here (1 line of code)\n",
    "# Plot on the second subplot W[1] vs. Iteration\n",
    "axes[0, 1].plot(N + 1, W[1])\n",
    "axes[0, 1].set_title(\"W1 vs. Iteration\")\n",
    "\n",
    "# Put your code here (1 line of code)\n",
    "# Plot on the third subplot W[2] vs. Iteration\n",
    "axes[1, 0].plot(N + 1, W[2])\n",
    "axes[1, 0].set_title(\"W2 vs. Iteration\")\n",
    "\n",
    "\n",
    "# Put your code here (1 line of code) \n",
    "# You can remove it if you have just 2 features\n",
    "# Plot on the fourth subplot W[3] vs. Iteration\n",
    "axes[1, 1].plot(N + 1, W[3])\n",
    "axes[1, 1].set_title(\"W3 vs. Iteration\")\n",
    "\n",
    "\n",
    "# Put your code here (1 line of code) \n",
    "# You can remove it if you have just 3 features\n",
    "# Plot on the fifth subplot W[4] vs. Iteration\n",
    "axes[2, 0].plot(N + 1, W[4])\n",
    "axes[2, 0].set_title(\"W4 vs. Iteration\")\n",
    "\n",
    "\n",
    "# Add more if you have more than 3 features\n",
    "# ......\n",
    "\n",
    "# Adjust layout and show the plots\n",
    "fig.delaxes(axes[2, 1])\n",
    "plt.tight_layout()\n",
    "plt.show()"
   ]
  },
  {
   "cell_type": "markdown",
   "id": "afcf5b76",
   "metadata": {},
   "source": [
    "### Find the optimal coefficient values"
   ]
  },
  {
   "cell_type": "markdown",
   "id": "d92f1fd3",
   "metadata": {},
   "source": [
    "Now, it is time to retrieve the model parameters obtained using the Gradient Descent algorithm. These are, in fact, the last saved values."
   ]
  },
  {
   "cell_type": "code",
   "execution_count": 120,
   "id": "c7fd39ce",
   "metadata": {},
   "outputs": [
    {
     "name": "stdout",
     "output_type": "stream",
     "text": [
      "The obtained coefficient values are : [0.52723466 0.52708772 0.52694082 ... 0.14471609 0.14471292 0.14470975]\n"
     ]
    }
   ],
   "source": [
    "# Put your code here ( 1 line of code)\n",
    "# Find the last obtained parameter values from the algorithm; \n",
    "# you have already save all the values in W\n",
    "W_opt_reg = W[-1]\n",
    "\n",
    "print('The obtained coefficient values are :',W_opt_reg)"
   ]
  },
  {
   "cell_type": "markdown",
   "id": "52453437",
   "metadata": {},
   "source": [
    "### Evaluate your model using a test dataset"
   ]
  },
  {
   "cell_type": "markdown",
   "id": "ad43423d",
   "metadata": {},
   "source": [
    "Note that, for ease of evaluation, there is no difference between the regularized and unregularized forms, meaning that you can use the same `eval_fun` you have already implemented."
   ]
  },
  {
   "cell_type": "code",
   "execution_count": 121,
   "id": "32974991",
   "metadata": {},
   "outputs": [
    {
     "name": "stdout",
     "output_type": "stream",
     "text": [
      "0.7815126050420168\n"
     ]
    }
   ],
   "source": [
    "# Put your code here (1 line of code)\n",
    "# Use eval_fun to compute the accuracy of your model\n",
    "accuracy = eval_fun(X, Y, W_opt, threshold = 0.5)\n",
    "print (accuracy)"
   ]
  },
  {
   "cell_type": "markdown",
   "id": "e77d438f",
   "metadata": {},
   "source": [
    "## Hypreparameter Tuning"
   ]
  },
  {
   "cell_type": "markdown",
   "id": "a55122ce",
   "metadata": {},
   "source": [
    "You managed to implement logistic regression with regularization—__Congratulations__!\n",
    "\n",
    "Now, it's time to find an appropriate set of hyperparameters. Please try at least three different sets of hyperparameters and fill in the table below. The table is pre-filled with some arbitrary values, but you should modify them based on your implementation.\n",
    "We have considered both implementations—with and without regularization—where the $N$ and $\\alpha$ values are the same for each set. Please follow this approach to enable a fair comparison of model performances. Replace the __None__ values in the table with your chosen hyperparameter sets.\n",
    "\n",
    "__Note__: You may try more than three sets, but for the sake of documentation, please include three sets that you believe best demonstrate how hyperparameters affect the final model performance. "
   ]
  },
  {
   "cell_type": "markdown",
   "id": "c7571ed9",
   "metadata": {},
   "source": [
    "| Set |  Method               | $N$    | $\\alpha$ | $\\lambda$ | RMSE | \n",
    "|-----|:----------------------|--------|----------|-----------|------|\n",
    "|Set 1| Without Regularization|  10000 | 0.01     |  ---      | 1.82 |\n",
    "|     | With Regularization   |  10000 | 0.01     |   10      | 1.81 |   \n",
    "|Set 2| Without Regularization|  15000 | 0.001    |  ---      | 1.65 |\n",
    "|     | With Regularization   |  15000 | 0.001    |   20      | 1.66 |\n",
    "|Set 3| Without Regularization|  7000  | 0.005    |  ---      | 1.93 |\n",
    "|     | With Regularization   |  7000  | 0.005    |   30      | 1.92 |"
   ]
  },
  {
   "cell_type": "markdown",
   "id": "82ba94f6",
   "metadata": {},
   "source": [
    "#### Best hyperparameters"
   ]
  },
  {
   "cell_type": "markdown",
   "id": "d838e22c",
   "metadata": {},
   "source": [
    "Based on the hyperparameter tuning you have done, what are the best hyperparameters you found? (Fill in the 'None' values in the table below.)"
   ]
  },
  {
   "cell_type": "markdown",
   "id": "884053bb",
   "metadata": {},
   "source": [
    "__Best hyperparameters__:\n",
    "\n",
    "|     Method            | $N$    | $\\alpha$ | $\\lambda$ | RMSE | \n",
    "|:----------------------|--------|----------|-----------|------|\n",
    "| None                  |  None  | None     |  None     | None |    "
   ]
  },
  {
   "cell_type": "code",
   "execution_count": null,
   "id": "01f7dec8",
   "metadata": {},
   "outputs": [],
   "source": []
  }
 ],
 "metadata": {
  "kernelspec": {
   "display_name": "Block_B",
   "language": "python",
   "name": "python3"
  },
  "language_info": {
   "codemirror_mode": {
    "name": "ipython",
    "version": 3
   },
   "file_extension": ".py",
   "mimetype": "text/x-python",
   "name": "python",
   "nbconvert_exporter": "python",
   "pygments_lexer": "ipython3",
   "version": "3.12.7"
  }
 },
 "nbformat": 4,
 "nbformat_minor": 5
}
