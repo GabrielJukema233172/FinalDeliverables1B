{
 "cells": [
  {
   "cell_type": "markdown",
   "id": "58e61b5c",
   "metadata": {},
   "source": [
    "## Template for Assignment 1 - Optimization Algorithms"
   ]
  },
  {
   "cell_type": "markdown",
   "id": "f6a37140",
   "metadata": {},
   "source": [
    "This is a template for **Assignment 1** of **Optimization Algorithms**. \n",
    "\n",
    "Fill in the **None** part in this template. Feel free to add more cells to this notebook to perform all the tasks that you are asked to do.\n",
    "\n",
    "The goal is to find the minimum of the following function:\n",
    "\n",
    "$$f(x) =  0.3x^4 - 0.1x^3 - 2x^2 - 0.8x$$\n",
    "\n",
    "using the Gradient Descent algorithm."
   ]
  },
  {
   "cell_type": "code",
   "execution_count": 21,
   "id": "0d433af2",
   "metadata": {},
   "outputs": [],
   "source": [
    "# Put your code here (1 line of code)\n",
    "# Import matplotlib.pyplot\n",
    "import matplotlib.pyplot as plt"
   ]
  },
  {
   "cell_type": "markdown",
   "id": "7c5e9964",
   "metadata": {},
   "source": [
    "### Initilization\n",
    "\n",
    "Consider an initial value for $𝑥$. You can initiate the Gradient Descent algorithm from any arbitrary starting point."
   ]
  },
  {
   "cell_type": "code",
   "execution_count": 22,
   "id": "1265d0dd",
   "metadata": {},
   "outputs": [],
   "source": [
    "# Put your code here (1 line of code)\n",
    "# Consider an initial value for x\n",
    "x = 1"
   ]
  },
  {
   "cell_type": "markdown",
   "id": "92449aa2",
   "metadata": {},
   "source": [
    "###  Define function\n",
    "Define the following function\n",
    "\n",
    "$$f(x) =  0.3x^4 - 0.1x^3 - 2x^2 - 0.8x$$\n",
    "\n",
    "You are tasked with finding the minimum for this function."
   ]
  },
  {
   "cell_type": "code",
   "execution_count": 23,
   "id": "48f170c3",
   "metadata": {},
   "outputs": [],
   "source": [
    "def my_fun(x):\n",
    "    # x (a scalar value): input value to your function\n",
    "    \n",
    "    # Output\n",
    "    # y (scalar value): output of the function\n",
    "    \n",
    "    # Put your code here (1 line of code)\n",
    "    y = 0.3*(x**4) - 0.1*(x**3) - 2*(x**2) - 0.8*x\n",
    "    \n",
    "    return y"
   ]
  },
  {
   "cell_type": "markdown",
   "id": "43124703",
   "metadata": {},
   "source": [
    "**Test your my_fun**:\n",
    "\n",
    "To ensure that you have implemented *my_fun(.)* correctly, run the following cell and compare the output with the expected value."
   ]
  },
  {
   "cell_type": "code",
   "execution_count": 24,
   "id": "32b39b79",
   "metadata": {},
   "outputs": [
    {
     "data": {
      "text/plain": [
       "-0.8000000000000003"
      ]
     },
     "execution_count": 24,
     "metadata": {},
     "output_type": "execute_result"
    }
   ],
   "source": [
    "my_fun(-2)"
   ]
  },
  {
   "cell_type": "markdown",
   "id": "a4539df6",
   "metadata": {},
   "source": [
    "The expected output is: -0.800"
   ]
  },
  {
   "cell_type": "markdown",
   "id": "3da6ec0e",
   "metadata": {},
   "source": [
    "### Compute the gradient of the function\n",
    "\n",
    "To implement the Gradient Descent algorithm, you need to compute the derivative of the related function. \n",
    "\n",
    "Now, compute the derivative of the mathematical function\n",
    "\n",
    "$$ f(x) = 0.3x^4 -0.1x^3 -2x^2 -0.8x$$\n",
    "\n",
    "and implement the following function for computing the derivative of this function:"
   ]
  },
  {
   "cell_type": "code",
   "execution_count": 32,
   "id": "37d20870",
   "metadata": {},
   "outputs": [],
   "source": [
    "\n",
    "def grad_fun(x):\n",
    "    # x (a scalar value): input to the derivative function\n",
    "    # y (output of the derivative function)\n",
    "    \n",
    "    # Put your code here (1 line of code)\n",
    "    y = 1.2*x**3 - 0.3*x**2 - 4*x - 0.8\n",
    "    \n",
    "    return y"
   ]
  },
  {
   "cell_type": "markdown",
   "id": "1bf1f9e5",
   "metadata": {},
   "source": [
    "**Test grad_fun**:\n",
    "\n",
    "Now, to ensure that you have computed and implemented the derivative function correctly, run the following cell and compare the result with the provided expected value."
   ]
  },
  {
   "cell_type": "code",
   "execution_count": 33,
   "id": "61a7de98",
   "metadata": {},
   "outputs": [
    {
     "data": {
      "text/plain": [
       "-2.725"
      ]
     },
     "execution_count": 33,
     "metadata": {},
     "output_type": "execute_result"
    }
   ],
   "source": [
    "grad_fun(0.5)"
   ]
  },
  {
   "cell_type": "markdown",
   "id": "25b635d2",
   "metadata": {},
   "source": [
    "The expected output is: -2.725"
   ]
  },
  {
   "cell_type": "markdown",
   "id": "3b6178b6",
   "metadata": {},
   "source": [
    "### Implement Gradient Descent Update Rule"
   ]
  },
  {
   "cell_type": "markdown",
   "id": "b46ee8dc",
   "metadata": {},
   "source": [
    "\n",
    "In this section, you need to implement the gradient descent update rule as follows:\n",
    "\n",
    "$$x_{n+1} = x_n - \\gamma \\nabla f(x_n)$$\n",
    "\n",
    "To execute this step, utilize the **grad_fun** that you have already implemented."
   ]
  },
  {
   "cell_type": "code",
   "execution_count": 36,
   "id": "cbd9c2cf",
   "metadata": {},
   "outputs": [],
   "source": [
    "def grad_descent_step(x, alf):\n",
    "    # x (a scalar value): the current value of x\n",
    "    # alf (a scalar value): learning rate\n",
    "    # x_new: the new value for x\n",
    "    \n",
    "    # Put your code here (1 line of code)\n",
    "    x_new = x - alf * grad_fun(x)\n",
    "    \n",
    "    return x_new"
   ]
  },
  {
   "cell_type": "markdown",
   "id": "b022dcc6",
   "metadata": {},
   "source": [
    "\n",
    "**Test grad_descent_step function**:\n",
    "\n",
    "Now, test your implemented Gradient Descent update rule by running the following cell and comparing the result with the expected value."
   ]
  },
  {
   "cell_type": "code",
   "execution_count": 37,
   "id": "e0b38a40",
   "metadata": {},
   "outputs": [
    {
     "data": {
      "text/plain": [
       "1.8925"
      ]
     },
     "execution_count": 37,
     "metadata": {},
     "output_type": "execute_result"
    }
   ],
   "source": [
    "grad_descent_step(2.5, 0.1)"
   ]
  },
  {
   "cell_type": "markdown",
   "id": "9526b58f",
   "metadata": {},
   "source": [
    "The expected ouptput is: 1.8925"
   ]
  },
  {
   "cell_type": "markdown",
   "id": "37f2e0a6",
   "metadata": {},
   "source": [
    "## Task 1: Implement Gradient Descent Algorithm"
   ]
  },
  {
   "cell_type": "markdown",
   "id": "4cff0de4",
   "metadata": {},
   "source": [
    "\n",
    "Now, you can implement the Gradient Descent algorithm using the previously developed functions, enabling you to complete the assignment by finding the optimal value of x and minimizing the function."
   ]
  },
  {
   "cell_type": "code",
   "execution_count": 40,
   "id": "279c2173",
   "metadata": {},
   "outputs": [
    {
     "data": {
      "image/png": "[encoded data removed]",
      "text/plain": [
       "<Figure size 1200x600 with 2 Axes>"
      ]
     },
     "metadata": {},
     "output_type": "display_data"
    }
   ],
   "source": [
    "# Put your code here (1 line of code)\n",
    "# Choose an initial value for x\n",
    "x_init = 0\n",
    "\n",
    "# Put your code here (1 line of code)\n",
    "# Choose the learning rate\n",
    "gam = 0.01\n",
    "\n",
    "# Put your code here (1 line of code)\n",
    "# Choose the number of iterations\n",
    "N = 1000\n",
    "\n",
    "# Save the values for x and function value\n",
    "X = [x_init]\n",
    "\n",
    "# Save the function value at x_init\n",
    "FUN_VAL = [my_fun(x_init)]\n",
    "\n",
    "for n in range(N):\n",
    "    \n",
    "    # Put your code here (1 line of code)\n",
    "    # call the grad_descent_step\n",
    "    x_new = grad_descent_step(X[-1], gam)\n",
    "    \n",
    "    # Put your code here (2 lines of code)\n",
    "    # save the obtained value x_new in the list X (use append method)\n",
    "    # save the function value at point x_new (use append method)\n",
    "    X.append(x_new)\n",
    "    FUN_VAL.append(my_fun(x_new))\n",
    "\n",
    "# Plot the results\n",
    "fig, ax = plt.subplots(1,2, figsize=(12,6))\n",
    "ax[0].plot(range(N+1), X)\n",
    "ax[0].set_xlabel('n', size=14)\n",
    "ax[0].set_ylabel('x', size=14)\n",
    "\n",
    "ax[1].plot(range(N+1), FUN_VAL)\n",
    "ax[1].set_xlabel('n', size=14)\n",
    "ax[1].set_ylabel('Value', size=14)\n",
    "\n",
    "plt.show()"
   ]
  },
  {
   "cell_type": "markdown",
   "id": "cec98d44",
   "metadata": {},
   "source": [
    "#### Reflection"
   ]
  },
  {
   "cell_type": "markdown",
   "id": "5e7f11c5",
   "metadata": {},
   "source": [
    "In the following cell, examine the obtained graphs and reflect on how they demonstrate the progression of the Gradient Descent algorithm toward the function's minimum."
   ]
  },
  {
   "cell_type": "code",
   "execution_count": 1,
   "id": "fcf9b8e3",
   "metadata": {},
   "outputs": [],
   "source": [
    "\"\"\"They have a fast ascent and descent towards the global minimum of the function respectively, this means that the functions gradually approach the correct soultion and make smaller and smaller changes as they get closer.\"\"\""
   ]
  },
  {
   "cell_type": "markdown",
   "id": "e610b89a",
   "metadata": {},
   "source": [
    "**The optimal value for x**:"
   ]
  },
  {
   "cell_type": "code",
   "execution_count": 41,
   "id": "f2a6f74a",
   "metadata": {},
   "outputs": [
    {
     "name": "stdout",
     "output_type": "stream",
     "text": [
      "The optimal value of x is: 2.04213686583901\n"
     ]
    }
   ],
   "source": [
    "# Put your code here (1 line of code)\n",
    "# Define the optimal value for x\n",
    "x_opt = X[-1]\n",
    "\n",
    "print(\"The optimal value of x is:\", x_opt)"
   ]
  },
  {
   "cell_type": "markdown",
   "id": "5ee28b52",
   "metadata": {},
   "source": [
    "**The minimum value of the function**:"
   ]
  },
  {
   "cell_type": "code",
   "execution_count": 42,
   "id": "3f564cf7",
   "metadata": {},
   "outputs": [
    {
     "name": "stdout",
     "output_type": "stream",
     "text": [
      "The minimum value of f is: -5.608514355759727\n"
     ]
    }
   ],
   "source": [
    "# Put your code here (1 line of code)\n",
    "# Define the minimum value of the function at optimal point x_opt\n",
    "min_val = my_fun(x_opt)\n",
    "\n",
    "print(\"The minimum value of f is:\", min_val)\n"
   ]
  },
  {
   "cell_type": "markdown",
   "id": "274c0651",
   "metadata": {},
   "source": [
    "## Check the Result"
   ]
  },
  {
   "cell_type": "markdown",
   "id": "22448dc9",
   "metadata": {},
   "source": [
    "\n",
    "Eventually, to ensure that you have implemented the Gradient Descent algorithm correctly, you can obtain the minimum value of the function using Python's capabilities.\n",
    "\n",
    "You can check the Gradient Descent algorithm output by comparing the results obtained by the 'fmin' function from SciPy as follows:"
   ]
  },
  {
   "cell_type": "code",
   "execution_count": 43,
   "id": "444d7163",
   "metadata": {},
   "outputs": [
    {
     "name": "stdout",
     "output_type": "stream",
     "text": [
      "Optimization terminated successfully.\n",
      "         Current function value: -5.608514\n",
      "         Iterations: 16\n",
      "         Function evaluations: 32\n"
     ]
    }
   ],
   "source": [
    "from scipy.optimize import fmin\n",
    "\n",
    "minimum = fmin(my_fun, 3)"
   ]
  },
  {
   "cell_type": "code",
   "execution_count": 44,
   "id": "df2f75d9",
   "metadata": {},
   "outputs": [
    {
     "name": "stdout",
     "output_type": "stream",
     "text": [
      "The optimal value for x is: 2.0421386718749974\n"
     ]
    }
   ],
   "source": [
    "print(\"The optimal value for x is:\", minimum[0])"
   ]
  },
  {
   "cell_type": "markdown",
   "id": "2333c52d",
   "metadata": {},
   "source": [
    "## Task 2: Impact of Learning Rate on Gradient Descent Algorithm Performance"
   ]
  },
  {
   "cell_type": "markdown",
   "id": "417c9da0",
   "metadata": {},
   "source": [
    "Starting from a same initial guess, use at least two different learning rate values and compare the convergence of the optimization algorithm towards the minimum of the function."
   ]
  },
  {
   "cell_type": "code",
   "execution_count": 49,
   "id": "fb484f8e",
   "metadata": {},
   "outputs": [
    {
     "data": {
      "image/png": "[encoded data removed]",
      "text/plain": [
       "<Figure size 1200x600 with 2 Axes>"
      ]
     },
     "metadata": {},
     "output_type": "display_data"
    }
   ],
   "source": [
    "# Put your code here (1 line of code)\n",
    "# Choose an initial value for x\n",
    "x_init = 0\n",
    "\n",
    "# Put your code here (2 line of code)\n",
    "# Choose two different values for the learning rate\n",
    "gam1 = 0.01\n",
    "gam2 = 0.05\n",
    "\n",
    "# Put your code here (1 line of code)\n",
    "# Choose the number of iterations\n",
    "N = 500\n",
    "\n",
    "# Save the values for x and function value\n",
    "X1 = [x_init]\n",
    "X2 = [x_init]\n",
    "\n",
    "# Save the function value at x_init\n",
    "FUN_VAL1 = [my_fun(x_init)]\n",
    "FUN_VAL2 = [my_fun(x_init)]\n",
    "\n",
    "# Run the gradient descent algorithm with the first chosen learning rate\n",
    "for n in range(N):\n",
    "    \n",
    "    # Put your code here (1 line of code)\n",
    "    # call the grad_descent_step using the the first learning rate gam1\n",
    "    x_new = grad_descent_step(X1[-1], gam1)\n",
    "    \n",
    "    # Put your code here (2 lines of code)\n",
    "    # save the obtained value x_new in the list X1 (use append method)\n",
    "    # save the function value at point x_new in the list FUN_VAL1 (use append method)\n",
    "    X1.append(x_new)\n",
    "    FUN_VAL1.append(x_new)\n",
    "\n",
    "# Run the gradient descent algorithm with the second chosen learning rate\n",
    "for n in range(N):\n",
    "    \n",
    "    # Put your code here (1 line of code)\n",
    "    # call the grad_descent_step\n",
    "    x_new = grad_descent_step(X2[-1], gam2)\n",
    "    \n",
    "    # Put your code here (2 lines of code)\n",
    "    # save the obtained value x_new in the list X2 (use append method)\n",
    "    # save the function value at point x_new in the list FUN_VAL2 (use append method)\n",
    "    X2.append(x_new)\n",
    "    FUN_VAL2.append(x_new)\n",
    "\n",
    "\n",
    "\n",
    "# Plot the results\n",
    "fig, ax = plt.subplots(1,2, figsize=(12,6))\n",
    "ax[0].plot(range(N+1), X1, label='X1', color='blue')\n",
    "ax[0].plot(range(N+1), X2, label='X2', color='red')\n",
    "ax[0].set_xlabel('n', size=14)\n",
    "ax[0].set_ylabel('x', size=14)\n",
    "ax[0].legend()\n",
    "\n",
    "ax[1].plot(range(N+1), FUN_VAL1, label='VAL1', color='blue')\n",
    "ax[1].plot(range(N+1), FUN_VAL2, label='VAL2', color='red')\n",
    "ax[1].set_xlabel('n', size=14)\n",
    "ax[1].set_ylabel('Value', size=14)\n",
    "ax[1].legend()\n",
    "\n",
    "plt.show()"
   ]
  },
  {
   "cell_type": "markdown",
   "id": "0953d08b",
   "metadata": {},
   "source": [
    "#### Reflection"
   ]
  },
  {
   "cell_type": "markdown",
   "id": "068a1cd0",
   "metadata": {},
   "source": [
    "Analyze the graphs and reflect on how changing the learning rate could affect the final optimal value obtained by the Gradient Descent algorithm."
   ]
  },
  {
   "cell_type": "code",
   "execution_count": 2,
   "id": "f8c8e8f4",
   "metadata": {},
   "outputs": [],
   "source": [
    "\"\"\"The red line with a higher learning rate converges to the optimal x faster than the blue line (lower learning rate) in both graphs.\n",
    "Although it is faster, higher learning rates can sometimes cause overshooting or divergence if the learning rate is too large. Not in this case, but it is possible.\n",
    "The slower convergence, as seen in the blue lines, means the algorithm takes longer to reach the optimal x and minimum function value.\"\"\""
   ]
  },
  {
   "cell_type": "markdown",
   "id": "b053b35a",
   "metadata": {},
   "source": [
    "## Task 3: Impact of Initial Guess on Gradient Descent Algorithm Performance"
   ]
  },
  {
   "cell_type": "markdown",
   "id": "9f5df77d",
   "metadata": {},
   "source": [
    "Consider two different initial guesses for the algorithm and show that the resulting optimum values could differ even if you allow enough iterations for each. You may choose your initial guesses based on the illustration of $x$  versus $y$  given."
   ]
  },
  {
   "cell_type": "code",
   "execution_count": 53,
   "id": "681dc157",
   "metadata": {},
   "outputs": [
    {
     "data": {
      "image/png": "[encoded data removed]",
      "text/plain": [
       "<Figure size 1200x600 with 2 Axes>"
      ]
     },
     "metadata": {},
     "output_type": "display_data"
    }
   ],
   "source": [
    "# Put your code here (2 line of code)\n",
    "# Choose two initial values for x\n",
    "x_init1 = 0\n",
    "x_init2 = 5\n",
    "\n",
    "# Put your code here (2 line of code)\n",
    "# Choose learning rate value\n",
    "gam = 0.001\n",
    "\n",
    "# Put your code here (1 line of code)\n",
    "# Choose the number of iterations\n",
    "N = 500\n",
    "\n",
    "# Save the values for x and function value\n",
    "X1 = [x_init1]\n",
    "X2 = [x_init2]\n",
    "\n",
    "# Save the function value at x_init\n",
    "FUN_VAL1 = [my_fun(x_init1)]\n",
    "FUN_VAL2 = [my_fun(x_init2)]\n",
    "\n",
    "# Run the gradient descent algorithm with the first initial guess\n",
    "for n in range(N):\n",
    "    \n",
    "    # Put your code here (1 line of code)\n",
    "    # call the grad_descent_step\n",
    "    x_new = grad_descent_step(X1[-1], gam)\n",
    "    \n",
    "    # Put your code here (2 lines of code)\n",
    "    # save the obtained value x_new in the list X1 (use append method)\n",
    "    # save the function value at point x_new in the list FUN_VAL1 (use append method)\n",
    "    X1.append(x_new)\n",
    "    FUN_VAL1.append(x_new)\n",
    "\n",
    "# Run the gradient descent algorithm with the second initial guess\n",
    "for n in range(N):\n",
    "    \n",
    "    # Put your code here (1 line of code)\n",
    "    # call the grad_descent_step\n",
    "    x_new = grad_descent_step(X2[-1], gam)\n",
    "    \n",
    "    # Put your code here (2 lines of code)\n",
    "    # save the obtained value x_new in the list X2 (use append method)\n",
    "    # save the function value at point x_new in the list FUN_VAL2 (use append method)\n",
    "    X2.append(x_new)\n",
    "    FUN_VAL2.append(x_new)\n",
    "\n",
    "\n",
    "# Plot the results\n",
    "fig, ax = plt.subplots(1,2, figsize=(12,6))\n",
    "ax[0].plot(range(N+1), X1, label='First', color='blue')\n",
    "ax[0].plot(range(N+1), X2, label='Second', color='red')\n",
    "ax[0].set_xlabel('n', size=14)\n",
    "ax[0].set_ylabel('x', size=14)\n",
    "ax[0].legend()\n",
    "\n",
    "ax[1].plot(range(N+1), FUN_VAL1, label='First', color='blue')\n",
    "ax[1].plot(range(N+1), FUN_VAL2, label='Second', color='red')\n",
    "ax[1].set_xlabel('n', size=14)\n",
    "ax[1].set_ylabel('Value', size=14)\n",
    "ax[1].legend()\n",
    "\n",
    "plt.show()\n",
    "\n"
   ]
  },
  {
   "cell_type": "markdown",
   "id": "9189a381",
   "metadata": {},
   "source": [
    "#### Reflection"
   ]
  },
  {
   "cell_type": "markdown",
   "id": "b4ca8730",
   "metadata": {},
   "source": [
    "Analyze the graphs and explain why different initial starting points lead to varying final optimal values."
   ]
  },
  {
   "cell_type": "code",
   "execution_count": 3,
   "id": "68b7d8a0",
   "metadata": {},
   "outputs": [],
   "source": [
    "\"\"\"I had to play around with the learning rate, initial x values and number of iterations becaue the intial values i put in were returning values too large.\"\"\""
   ]
  }
 ],
 "metadata": {
  "kernelspec": {
   "display_name": "Block_B",
   "language": "python",
   "name": "python3"
  },
  "language_info": {
   "codemirror_mode": {
    "name": "ipython",
    "version": 3
   },
   "file_extension": ".py",
   "mimetype": "text/x-python",
   "name": "python",
   "nbconvert_exporter": "python",
   "pygments_lexer": "ipython3",
   "version": "3.12.7"
  }
 },
 "nbformat": 4,
 "nbformat_minor": 5
}
